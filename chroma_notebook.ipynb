{
 "cells": [
  {
   "cell_type": "code",
   "execution_count": 17,
   "metadata": {},
   "outputs": [],
   "source": [
    "import os\n",
    "\n",
    "if os.path.exists( \".env\" ):\n",
    "    from dotenv import load_dotenv\n",
    "    load_dotenv()"
   ]
  },
  {
   "cell_type": "code",
   "execution_count": 18,
   "metadata": {},
   "outputs": [],
   "source": [
    "from google import genai\n",
    "from google.genai import types\n",
    "from chromadb import Documents, EmbeddingFunction, Embeddings\n",
    "\n",
    "class GenAIEmbeddingFunction( EmbeddingFunction[ Documents ] ):\n",
    "\n",
    "    def __init__( self, api_key: str = None, \n",
    "                  model_name: str = \"gemini-embedding-exp-03-07\", \n",
    "                  task_type = \"SEMANTIC_SIMILARITY\" ) -> None:\n",
    "        self.api_key = api_key if api_key is not None else os.getenv( \"GEMINI_API_KEY\" )\n",
    "        self.client = genai.Client( api_key = self.api_key )\n",
    "        self.model_name = model_name\n",
    "        self.task_type = task_type\n",
    "\n",
    "    def __call__( self, input: Documents ) -> Embeddings:\n",
    "       \n",
    "        result = self.client.models.embed_content( model = self.model_name,\n",
    "                                                   contents = input,\n",
    "                                                   config = types.EmbedContentConfig( task_type = self.task_type )\n",
    "                                    )\n",
    "       \n",
    "        return [ embedding.values for embedding in result.embeddings ]"
   ]
  },
  {
   "cell_type": "markdown",
   "metadata": {},
   "source": [
    "dataset"
   ]
  },
  {
   "cell_type": "code",
   "execution_count": 22,
   "metadata": {},
   "outputs": [
    {
     "data": {
      "text/html": [
       "<div>\n",
       "<style scoped>\n",
       "    .dataframe tbody tr th:only-of-type {\n",
       "        vertical-align: middle;\n",
       "    }\n",
       "\n",
       "    .dataframe tbody tr th {\n",
       "        vertical-align: top;\n",
       "    }\n",
       "\n",
       "    .dataframe thead th {\n",
       "        text-align: right;\n",
       "    }\n",
       "</style>\n",
       "<table border=\"1\" class=\"dataframe\">\n",
       "  <thead>\n",
       "    <tr style=\"text-align: right;\">\n",
       "      <th></th>\n",
       "      <th>id</th>\n",
       "      <th>document</th>\n",
       "      <th>category</th>\n",
       "    </tr>\n",
       "  </thead>\n",
       "  <tbody>\n",
       "    <tr>\n",
       "      <th>0</th>\n",
       "      <td>qa_1</td>\n",
       "      <td>使用者: 你們有哪些線上服務\\n心肝寶貝健康諮詢小助手: 主要提供的線上服務為心臟病和肝病的...</td>\n",
       "      <td>qa</td>\n",
       "    </tr>\n",
       "    <tr>\n",
       "      <th>1</th>\n",
       "      <td>qa_2</td>\n",
       "      <td>使用者: 預測結果代表什麼?\\n心肝寶貝健康諮詢小助手: 僅代表是否有潛在風險，如有進一步醫...</td>\n",
       "      <td>qa</td>\n",
       "    </tr>\n",
       "  </tbody>\n",
       "</table>\n",
       "</div>"
      ],
      "text/plain": [
       "     id                                           document category\n",
       "0  qa_1  使用者: 你們有哪些線上服務\\n心肝寶貝健康諮詢小助手: 主要提供的線上服務為心臟病和肝病的...       qa\n",
       "1  qa_2  使用者: 預測結果代表什麼?\\n心肝寶貝健康諮詢小助手: 僅代表是否有潛在風險，如有進一步醫...       qa"
      ]
     },
     "execution_count": 22,
     "metadata": {},
     "output_type": "execute_result"
    }
   ],
   "source": [
    "import pandas as pd\n",
    "\n",
    "qa_text_df = pd.read_csv( \"./dataset/qa_texts.csv\" )\n",
    "\n",
    "qa_texts = qa_text_df[ \"document\" ].tolist()\n",
    "qa_ids = qa_text_df[ \"id\" ].tolist()\n",
    "\n",
    "assert len( qa_texts ) == len( qa_ids ), \"The length of dataset and ids must be the same.\"\n",
    "qa_text_df.head( 2 )"
   ]
  },
  {
   "cell_type": "markdown",
   "metadata": {},
   "source": [
    "embeddings"
   ]
  },
  {
   "cell_type": "code",
   "execution_count": null,
   "metadata": {},
   "outputs": [],
   "source": [
    "import time\n",
    "\n",
    "embedding_function = GenAIEmbeddingFunction( api_key = os.getenv( \"GEMINI_API_KEY\" ), task_type = \"QUESTION_ANSWERING\" )\n",
    "\n",
    "current = 0\n",
    "offset = 5\n",
    "# total = 10\n",
    "total = len( qa_texts )\n",
    "qa_embeddings = []\n",
    "while len( qa_embeddings ) < total:\n",
    "    \n",
    "    try:\n",
    "        result = embedding_function( qa_texts[ current:( current + offset ) ] )\n",
    "        if isinstance( result, list ):\n",
    "            qa_embeddings.extend( result )\n",
    "\n",
    "        if current % 10 == 0:\n",
    "            print( f\"current progress: { current }\" )\n",
    "        current = current + offset\n",
    "        \n",
    "    except Exception as e:\n",
    "        print( f\"Error: { e }\" )\n",
    "    \n",
    "    time.sleep( 3 )\n",
    "\n",
    "print( \"len:\", len( qa_embeddings ) )\n",
    "print( \"last index:\", current )\n",
    "\n",
    "assert len( qa_embeddings ) == total"
   ]
  },
  {
   "cell_type": "markdown",
   "metadata": {},
   "source": [
    "qa_data to file"
   ]
  },
  {
   "cell_type": "code",
   "execution_count": 24,
   "metadata": {},
   "outputs": [
    {
     "name": "stdout",
     "output_type": "stream",
     "text": [
      "(71, 4)\n"
     ]
    },
    {
     "data": {
      "text/html": [
       "<div>\n",
       "<style scoped>\n",
       "    .dataframe tbody tr th:only-of-type {\n",
       "        vertical-align: middle;\n",
       "    }\n",
       "\n",
       "    .dataframe tbody tr th {\n",
       "        vertical-align: top;\n",
       "    }\n",
       "\n",
       "    .dataframe thead th {\n",
       "        text-align: right;\n",
       "    }\n",
       "</style>\n",
       "<table border=\"1\" class=\"dataframe\">\n",
       "  <thead>\n",
       "    <tr style=\"text-align: right;\">\n",
       "      <th></th>\n",
       "      <th>id</th>\n",
       "      <th>document</th>\n",
       "      <th>embedding</th>\n",
       "      <th>category</th>\n",
       "    </tr>\n",
       "  </thead>\n",
       "  <tbody>\n",
       "    <tr>\n",
       "      <th>0</th>\n",
       "      <td>qa_1</td>\n",
       "      <td>使用者: 你們有哪些線上服務\\n心肝寶貝健康諮詢小助手: 主要提供的線上服務為心臟病和肝病的...</td>\n",
       "      <td>[0.010236396, -0.000117234405, 0.007943524, -0...</td>\n",
       "      <td>qa</td>\n",
       "    </tr>\n",
       "    <tr>\n",
       "      <th>1</th>\n",
       "      <td>qa_2</td>\n",
       "      <td>使用者: 預測結果代表什麼?\\n心肝寶貝健康諮詢小助手: 僅代表是否有潛在風險，如有進一步醫...</td>\n",
       "      <td>[0.011000515, 0.014900229, -0.0049431445, -0.0...</td>\n",
       "      <td>qa</td>\n",
       "    </tr>\n",
       "  </tbody>\n",
       "</table>\n",
       "</div>"
      ],
      "text/plain": [
       "     id                                           document  \\\n",
       "0  qa_1  使用者: 你們有哪些線上服務\\n心肝寶貝健康諮詢小助手: 主要提供的線上服務為心臟病和肝病的...   \n",
       "1  qa_2  使用者: 預測結果代表什麼?\\n心肝寶貝健康諮詢小助手: 僅代表是否有潛在風險，如有進一步醫...   \n",
       "\n",
       "                                           embedding category  \n",
       "0  [0.010236396, -0.000117234405, 0.007943524, -0...       qa  \n",
       "1  [0.011000515, 0.014900229, -0.0049431445, -0.0...       qa  "
      ]
     },
     "execution_count": 24,
     "metadata": {},
     "output_type": "execute_result"
    }
   ],
   "source": [
    "import numpy as np\n",
    "import json\n",
    "\n",
    "n = len( qa_embeddings )\n",
    "qa_df = pd.DataFrame( {\n",
    "    \"id\": qa_ids[ :n ],\n",
    "    \"document\": qa_texts[ :n ],\n",
    "    \"embedding\": qa_embeddings[ :n ],\n",
    "    \"category\": \"qa\",\n",
    "} )\n",
    "qa_df.to_parquet( \"qa_data.parquet\", engine = \"pyarrow\", compression = \"snappy\" )\n",
    "print( qa_df.shape )\n",
    "qa_df.head( 2)"
   ]
  },
  {
   "cell_type": "markdown",
   "metadata": {},
   "source": [
    "### chromaDb"
   ]
  },
  {
   "cell_type": "code",
   "execution_count": 42,
   "metadata": {},
   "outputs": [],
   "source": [
    "import chromadb\n",
    "\n",
    "genai_embedding_function = GenAIEmbeddingFunction()\n",
    "\n",
    "CHROMADB_COLLECTION_NAME = \"gad245-g1-chromadb-embedding\"\n",
    "# chroma_client = chromadb.Client() # Ephemeral Client\n",
    "chroma_client = chromadb.PersistentClient( path = \"./chroma\" )\n",
    "collection = chroma_client.get_or_create_collection( \n",
    "                                name = CHROMADB_COLLECTION_NAME,\n",
    "                                embedding_function = genai_embedding_function, #  Chroma will use sentence transformer as a default. \n",
    "                           )"
   ]
  },
  {
   "cell_type": "code",
   "execution_count": 43,
   "metadata": {},
   "outputs": [
    {
     "name": "stdout",
     "output_type": "stream",
     "text": [
      "n = 71\n"
     ]
    },
    {
     "data": {
      "text/plain": [
       "{'ids': ['qa_1',\n",
       "  'qa_2',\n",
       "  'qa_3',\n",
       "  'qa_4',\n",
       "  'qa_5',\n",
       "  'qa_6',\n",
       "  'qa_7',\n",
       "  'qa_8',\n",
       "  'qa_9',\n",
       "  'qa_10'],\n",
       " 'embeddings': array([[ 0.0102364 , -0.00011723,  0.00794352, ..., -0.00188833,\n",
       "         -0.00200063, -0.01164419],\n",
       "        [ 0.01100051,  0.01490023, -0.00494314, ..., -0.00420213,\n",
       "         -0.00407544, -0.01837455],\n",
       "        [-0.00413251,  0.00743793,  0.00969152, ...,  0.00238361,\n",
       "          0.00298788, -0.01452713],\n",
       "        ...,\n",
       "        [-0.00623671,  0.04030967,  0.03029461, ..., -0.02568531,\n",
       "         -0.00308101, -0.03016951],\n",
       "        [ 0.00953058,  0.01997827,  0.00854848, ..., -0.00755414,\n",
       "         -0.00787648,  0.0063565 ],\n",
       "        [ 0.00675113,  0.01490591,  0.00011731, ..., -0.00375697,\n",
       "          0.01389408, -0.02812044]], shape=(10, 3072)),\n",
       " 'documents': ['使用者: 你們有哪些線上服務\\n心肝寶貝健康諮詢小助手: 主要提供的線上服務為心臟病和肝病的風險預測',\n",
       "  '使用者: 預測結果代表什麼?\\n心肝寶貝健康諮詢小助手: 僅代表是否有潛在風險，如有進一步醫療問題，請務必諮詢專業醫師的建議並遵照醫囑。',\n",
       "  '使用者: 你們網站叫什麼名字\\n心肝寶貝健康諮詢小助手: 心肝寶貝疾病預測線上服務',\n",
       "  '使用者: 用怎樣方式做預測\\n心肝寶貝健康諮詢小助手: 最近流行的AI 機器學習的方法來預測',\n",
       "  '使用者: 有哪些預測欄位\\n心肝寶貝健康諮詢小助手: 年齡、性別、胸痛類型、靜息血壓、膽固醇等...，詳細部分請參考網站頁面',\n",
       "  '使用者: 請問可以全身都預測嗎?\\n心肝寶貝健康諮詢小助手: 目前只針對心臟病與肝病的診斷設計預測，如需全身器官預測，需更廣泛的身體系統的指標資料集。',\n",
       "  '使用者: 這網站適用對象是\\n心肝寶貝健康諮詢小助手: 主要提供一般民眾平時就以具體工具測量，多多關注自身的身體狀況',\n",
       "  '使用者: 每次測量都會做儲存嗎\\n心肝寶貝健康諮詢小助手: 系統相關數據都存放在雲端，請記得註冊並登入',\n",
       "  '使用者: 這系統是否可以商用化\\n心肝寶貝健康諮詢小助手: 除提供一般民眾使用外，也歡迎醫療院所共同進行電子資訊串接，一起關心及守護健康',\n",
       "  '使用者: 會不會有病患資料洩漏風險\\n心肝寶貝健康諮詢小助手: 網站使用加密技術(如 HTTPS)'],\n",
       " 'uris': None,\n",
       " 'data': None,\n",
       " 'metadatas': [{'category': 'qa'},\n",
       "  {'category': 'qa'},\n",
       "  {'category': 'qa'},\n",
       "  {'category': 'qa'},\n",
       "  {'category': 'qa'},\n",
       "  {'category': 'qa'},\n",
       "  {'category': 'qa'},\n",
       "  {'category': 'qa'},\n",
       "  {'category': 'qa'},\n",
       "  {'category': 'qa'}],\n",
       " 'included': [<IncludeEnum.embeddings: 'embeddings'>,\n",
       "  <IncludeEnum.documents: 'documents'>,\n",
       "  <IncludeEnum.metadatas: 'metadatas'>]}"
      ]
     },
     "execution_count": 43,
     "metadata": {},
     "output_type": "execute_result"
    }
   ],
   "source": [
    "import hashlib\n",
    "\n",
    "# def hash_ids( sentences ):\n",
    "#     hash_ids = []\n",
    "#     for sentence in sentences:\n",
    "#         bytes = sentence.encode()\n",
    "#         hashed = hashlib.sha256( bytes ).hexdigest()\n",
    "    \n",
    "#         hash_ids.append( hashed )\n",
    "\n",
    "#     return hash_ids\n",
    "\n",
    "qa_data_df = pd.read_parquet( \"qa_data.parquet\", engine = \"pyarrow\" )\n",
    "n = qa_data_df.shape[ 0 ]\n",
    "print( \"n =\", n )\n",
    "\n",
    "embeddings = qa_data_df[ \"embedding\" ].tolist()[ :n ]\n",
    "documents = qa_data_df[ \"document\" ].tolist()[ :n ]\n",
    "ids = qa_data_df[ \"id\" ].tolist()[ :n ]\n",
    "metadatas = qa_data_df.drop( columns = [ \"id\", \"document\", \"embedding\" ] ).to_dict( orient = \"records\" )[  :n ]\n",
    "\n",
    "collection.add(\n",
    "    documents = documents,\n",
    "    embeddings = embeddings,\n",
    "    ids = ids,\n",
    "    metadatas = metadatas,\n",
    ")\n",
    "collection.peek()"
   ]
  },
  {
   "cell_type": "markdown",
   "metadata": {},
   "source": [
    "query"
   ]
  },
  {
   "cell_type": "code",
   "execution_count": 44,
   "metadata": {},
   "outputs": [
    {
     "data": {
      "text/plain": [
       "{'ids': [['qa_1', 'qa_33']],\n",
       " 'embeddings': None,\n",
       " 'documents': [['使用者: 你們有哪些線上服務\\n心肝寶貝健康諮詢小助手: 主要提供的線上服務為心臟病和肝病的風險預測',\n",
       "   '使用者: 你們的線上服務有什麼?\\n心肝寶貝健康諮詢小助手: 我們是「心肝寶貝疾病預測」，提供心臟病和肝病的風險預測，還有一個健康小助手可以線上問問題，幫你關注健康！']],\n",
       " 'uris': None,\n",
       " 'data': None,\n",
       " 'metadatas': [[{'category': 'qa'}, {'category': 'qa'}]],\n",
       " 'distances': [[0.6169126067353479, 0.6231232824808209]],\n",
       " 'included': [<IncludeEnum.distances: 'distances'>,\n",
       "  <IncludeEnum.documents: 'documents'>,\n",
       "  <IncludeEnum.metadatas: 'metadatas'>]}"
      ]
     },
     "execution_count": 44,
     "metadata": {},
     "output_type": "execute_result"
    }
   ],
   "source": [
    "results = collection.query(\n",
    "    query_texts = [ \"你們有什麼服務\" ], \n",
    "    n_results = 2, # how many results to return\n",
    "    where = { \"category\": \"qa\" },\n",
    "    # include=[ \"documents\" ]\n",
    ")\n",
    "results"
   ]
  },
  {
   "cell_type": "code",
   "execution_count": 45,
   "metadata": {},
   "outputs": [
    {
     "name": "stdout",
     "output_type": "stream",
     "text": [
      "{'ids': ['qa_1'], 'embeddings': None, 'documents': ['使用者: 你們有哪些線上服務\\n心肝寶貝健康諮詢小助手: 主要提供的線上服務為心臟病和肝病的風險預測'], 'uris': None, 'data': None, 'metadatas': [{'category': 'qa'}], 'included': [<IncludeEnum.documents: 'documents'>, <IncludeEnum.metadatas: 'metadatas'>]}\n"
     ]
    },
    {
     "data": {
      "text/plain": [
       "['gad245-g1-chromadb-embedding']"
      ]
     },
     "execution_count": 45,
     "metadata": {},
     "output_type": "execute_result"
    }
   ],
   "source": [
    "results = collection.get( limit = 1 )  # 只取前 3 筆\n",
    "print( results )\n",
    "chroma_client.list_collections()"
   ]
  },
  {
   "cell_type": "code",
   "execution_count": 41,
   "metadata": {},
   "outputs": [],
   "source": [
    "chroma_client.delete_collection( CHROMADB_COLLECTION_NAME ) # delete the collection"
   ]
  }
 ],
 "metadata": {
  "kernelspec": {
   "display_name": ".venv",
   "language": "python",
   "name": "python3"
  },
  "language_info": {
   "codemirror_mode": {
    "name": "ipython",
    "version": 3
   },
   "file_extension": ".py",
   "mimetype": "text/x-python",
   "name": "python",
   "nbconvert_exporter": "python",
   "pygments_lexer": "ipython3",
   "version": "3.13.2"
  }
 },
 "nbformat": 4,
 "nbformat_minor": 2
}
