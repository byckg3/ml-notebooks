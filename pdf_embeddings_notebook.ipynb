{
 "cells": [
  {
   "cell_type": "code",
   "execution_count": 1,
   "id": "b3ff7c38",
   "metadata": {},
   "outputs": [],
   "source": [
    "import os\n",
    "\n",
    "if os.path.exists( \".env\" ):\n",
    "    from dotenv import load_dotenv\n",
    "    load_dotenv()"
   ]
  },
  {
   "cell_type": "markdown",
   "id": "9a11e170",
   "metadata": {},
   "source": [
    "load pdf texts"
   ]
  },
  {
   "cell_type": "code",
   "execution_count": null,
   "id": "5a66bd04",
   "metadata": {},
   "outputs": [
    {
     "data": {
      "text/plain": [
       "['欄位 \\n值區 \\n1 \\nage \\n20-80 \\n2 \\ngender \\n0=男, 1=女 \\n3 \\nBMI \\n15-40 \\n建議 \\n過輕：BMI < 18.5 \\n●\\u200b\\n補充營養不挑食，健康增重更有勁！ \\n正常：18.5 ≤ BMI < 24.0 \\n●\\u200b\\n吃得剛剛，動得適量，健康體態最理想！ \\n過重：24.0 ≤ BMI < 27. \\n●\\u200b\\n少油少糖多運動，健康體態動起來！ \\n肥胖：BMI ≥ 27.0 \\n●\\u200b\\n飲食控制搭配運動，健康生活就從今天開始! \\n4 \\nAlcoholConsumption \\n成年男性：每週<14單位的純酒精\\u200b\\n成年女性：每週<7單位的純酒精 \\n一單位=10公克純酒精 \\n計算公式：酒的容量(c.c) x酒精濃度(%)x0.785 = 每瓶酒的酒精\\n含量(g) \\n建議 \\n1. 標準飲酒量：男性每週 ≤14 單位, 女性每週 ≤7 單位 \\n2. 飲酒過量：男性每週 >14 單位, 女性每週 >7 單位\\u200b\\n適量飲酒，健康長久；貪杯過量，後患無窮！  \\n5 \\nsmoking \\n0=否, 1=是 \\n建議 \\n🚭 戒菸一小步，健康一大步！ \\n讓呼吸更輕鬆，讓未來更美好！ \\n6',\n",
       " '0=否, 1=是 \\n建議 \\n🚭 戒菸一小步，健康一大步！ \\n讓呼吸更輕鬆，讓未來更美好！ \\n6 \\nPhysical Activity \\n0-10小時 \\n建議 \\n每週150分鐘，健康輕鬆擁有！ \\n健康從每一次的運動開始，快樂源自於身體的活力！ \\n久坐傷身，動起來才青春！ \\n7 \\nDiabetes \\n0=否, 1=是 \\n建議 \\n正常（70-99 mg/dL） \\n●\\u200b\\n請保持健康生活型態，少糖少油多蔬果，穩定血糖不發愁！ \\n糖尿病( >126 mg/dL ) \\n●\\u200b\\n建議立即就醫，按時服藥，及早控制能降低併發症的發生機率。 \\n●\\u200b\\n控制飲食：避免高糖、高碳水化合物食物，均衡攝取蛋白質與健康脂肪。 \\n●\\u200b\\n規律運動：適當運動有助於穩定血糖，提高胰島素敏感性。 \\n●\\u200b\\n定期監測血糖：養成監測血糖的習慣，及早發現異常。  \\n8 \\nHypertension \\n0=否, 1=是 \\n建議 \\n血壓正常：< 120/80 mmHg \\n●\\u200b\\n保持良好飲食和運動，擁抱健康血壓！ \\n高血壓：130/80 ~139/89 mmHg \\n●\\u200b\\n定期監測血壓，控制飲食，高血壓不可忽視，及早就醫控制，守護心腦健康！']"
      ]
     },
     "execution_count": 2,
     "metadata": {},
     "output_type": "execute_result"
    }
   ],
   "source": [
    "from langchain.document_loaders import PyMuPDFLoader\n",
    "from langchain.text_splitter import RecursiveCharacterTextSplitter\n",
    "\n",
    "# loader = PyMuPDFLoader( \"./dataset/心臟病知識統整.pdf\" )\n",
    "loader = PyMuPDFLoader( \"./dataset/肝病知識統整.pdf\" )\n",
    "pdf_documents = loader.load()\n",
    "\n",
    "splitter = RecursiveCharacterTextSplitter( chunk_size = 500, chunk_overlap = 50 )\n",
    "chunks = splitter.split_documents( pdf_documents )\n",
    "\n",
    "pdf_texts = [ chunk.page_content for chunk in chunks ]\n",
    "pdf_texts[ 0:2 ]"
   ]
  },
  {
   "cell_type": "markdown",
   "id": "3267e43c",
   "metadata": {},
   "source": [
    "pdf texts to embeddings"
   ]
  },
  {
   "cell_type": "code",
   "execution_count": 7,
   "id": "3935bbfc",
   "metadata": {},
   "outputs": [
    {
     "name": "stdout",
     "output_type": "stream",
     "text": [
      "current progress: 0\n",
      "current progress: 10\n",
      "len: 13\n",
      "last index: 15\n"
     ]
    }
   ],
   "source": [
    "from gemini_helper import GenAIEmbeddingFunction, to_embeddings\n",
    "\n",
    "pdf_embeddings = to_embeddings( pdf_texts, type = \"RETRIEVAL_DOCUMENT\" )"
   ]
  },
  {
   "cell_type": "markdown",
   "id": "2bb62f62",
   "metadata": {},
   "source": [
    "to parquet file"
   ]
  },
  {
   "cell_type": "code",
   "execution_count": null,
   "id": "d601d57a",
   "metadata": {},
   "outputs": [
    {
     "name": "stdout",
     "output_type": "stream",
     "text": [
      "(13, 5)\n"
     ]
    },
    {
     "data": {
      "text/html": [
       "<div>\n",
       "<style scoped>\n",
       "    .dataframe tbody tr th:only-of-type {\n",
       "        vertical-align: middle;\n",
       "    }\n",
       "\n",
       "    .dataframe tbody tr th {\n",
       "        vertical-align: top;\n",
       "    }\n",
       "\n",
       "    .dataframe thead th {\n",
       "        text-align: right;\n",
       "    }\n",
       "</style>\n",
       "<table border=\"1\" class=\"dataframe\">\n",
       "  <thead>\n",
       "    <tr style=\"text-align: right;\">\n",
       "      <th></th>\n",
       "      <th>id</th>\n",
       "      <th>document</th>\n",
       "      <th>embedding</th>\n",
       "      <th>category</th>\n",
       "      <th>domain</th>\n",
       "    </tr>\n",
       "  </thead>\n",
       "  <tbody>\n",
       "    <tr>\n",
       "      <th>0</th>\n",
       "      <td>pdf_liver_1</td>\n",
       "      <td>欄位 \\n值區 \\n1 \\nage \\n20-80 \\n2 \\ngender \\n0=男, ...</td>\n",
       "      <td>[-0.0037563308, 0.005729453, 0.03285417, -0.06...</td>\n",
       "      <td>pdf</td>\n",
       "      <td>liver_disease</td>\n",
       "    </tr>\n",
       "    <tr>\n",
       "      <th>1</th>\n",
       "      <td>pdf_liver_2</td>\n",
       "      <td>0=否, 1=是 \\n建議 \\n🚭 戒菸一小步，健康一大步！ \\n讓呼吸更輕鬆，讓未來更美好...</td>\n",
       "      <td>[0.0013093626, 0.01878251, 0.019596728, -0.062...</td>\n",
       "      <td>pdf</td>\n",
       "      <td>liver_disease</td>\n",
       "    </tr>\n",
       "  </tbody>\n",
       "</table>\n",
       "</div>"
      ],
      "text/plain": [
       "            id                                           document  \\\n",
       "0  pdf_liver_1  欄位 \\n值區 \\n1 \\nage \\n20-80 \\n2 \\ngender \\n0=男, ...   \n",
       "1  pdf_liver_2  0=否, 1=是 \\n建議 \\n🚭 戒菸一小步，健康一大步！ \\n讓呼吸更輕鬆，讓未來更美好...   \n",
       "\n",
       "                                           embedding category         domain  \n",
       "0  [-0.0037563308, 0.005729453, 0.03285417, -0.06...      pdf  liver_disease  \n",
       "1  [0.0013093626, 0.01878251, 0.019596728, -0.062...      pdf  liver_disease  "
      ]
     },
     "execution_count": 11,
     "metadata": {},
     "output_type": "execute_result"
    }
   ],
   "source": [
    "import pandas as pd\n",
    "\n",
    "n = len( pdf_embeddings )\n",
    "pdf_chunk_ids = [ f\"pdf_liver_{i + 1}\" for i in range( n ) ]\n",
    "\n",
    "pdf_df = pd.DataFrame( {\n",
    "    \"id\": pdf_chunk_ids[ :n ],\n",
    "    \"document\": pdf_texts[ :n ],\n",
    "    \"embedding\": pdf_embeddings[ :n ],\n",
    "    \"category\": \"pdf\",\n",
    "    \"domain\": \"liver_disease\",\n",
    "} )\n",
    "pdf_df.to_parquet( \"liver_disease_data.parquet\", engine = \"pyarrow\", compression = \"snappy\" )\n",
    "\n",
    "print( pdf_df.shape )\n",
    "pdf_df.head( 2 )"
   ]
  },
  {
   "cell_type": "code",
   "execution_count": 12,
   "id": "e6acebc3",
   "metadata": {},
   "outputs": [
    {
     "name": "stdout",
     "output_type": "stream",
     "text": [
      "n = 13\n"
     ]
    },
    {
     "data": {
      "text/plain": [
       "{'ids': ['pdf_liver_1', 'pdf_liver_2', 'pdf_liver_3'],\n",
       " 'embeddings': None,\n",
       " 'documents': ['欄位 \\n值區 \\n1 \\nage \\n20-80 \\n2 \\ngender \\n0=男, 1=女 \\n3 \\nBMI \\n15-40 \\n建議 \\n過輕：BMI < 18.5 \\n●\\u200b\\n補充營養不挑食，健康增重更有勁！ \\n正常：18.5 ≤ BMI < 24.0 \\n●\\u200b\\n吃得剛剛，動得適量，健康體態最理想！ \\n過重：24.0 ≤ BMI < 27. \\n●\\u200b\\n少油少糖多運動，健康體態動起來！ \\n肥胖：BMI ≥ 27.0 \\n●\\u200b\\n飲食控制搭配運動，健康生活就從今天開始! \\n4 \\nAlcoholConsumption \\n成年男性：每週<14單位的純酒精\\u200b\\n成年女性：每週<7單位的純酒精 \\n一單位=10公克純酒精 \\n計算公式：酒的容量(c.c) x酒精濃度(%)x0.785 = 每瓶酒的酒精\\n含量(g) \\n建議 \\n1. 標準飲酒量：男性每週 ≤14 單位, 女性每週 ≤7 單位 \\n2. 飲酒過量：男性每週 >14 單位, 女性每週 >7 單位\\u200b\\n適量飲酒，健康長久；貪杯過量，後患無窮！  \\n5 \\nsmoking \\n0=否, 1=是 \\n建議 \\n🚭 戒菸一小步，健康一大步！ \\n讓呼吸更輕鬆，讓未來更美好！ \\n6',\n",
       "  '0=否, 1=是 \\n建議 \\n🚭 戒菸一小步，健康一大步！ \\n讓呼吸更輕鬆，讓未來更美好！ \\n6 \\nPhysical Activity \\n0-10小時 \\n建議 \\n每週150分鐘，健康輕鬆擁有！ \\n健康從每一次的運動開始，快樂源自於身體的活力！ \\n久坐傷身，動起來才青春！ \\n7 \\nDiabetes \\n0=否, 1=是 \\n建議 \\n正常（70-99 mg/dL） \\n●\\u200b\\n請保持健康生活型態，少糖少油多蔬果，穩定血糖不發愁！ \\n糖尿病( >126 mg/dL ) \\n●\\u200b\\n建議立即就醫，按時服藥，及早控制能降低併發症的發生機率。 \\n●\\u200b\\n控制飲食：避免高糖、高碳水化合物食物，均衡攝取蛋白質與健康脂肪。 \\n●\\u200b\\n規律運動：適當運動有助於穩定血糖，提高胰島素敏感性。 \\n●\\u200b\\n定期監測血糖：養成監測血糖的習慣，及早發現異常。  \\n8 \\nHypertension \\n0=否, 1=是 \\n建議 \\n血壓正常：< 120/80 mmHg \\n●\\u200b\\n保持良好飲食和運動，擁抱健康血壓！ \\n高血壓：130/80 ~139/89 mmHg \\n●\\u200b\\n定期監測血壓，控制飲食，高血壓不可忽視，及早就醫控制，守護心腦健康！',\n",
       "  '●\\u200b\\n定期監測血壓，控制飲食，高血壓不可忽視，及早就醫控制，守護心腦健康！ \\n●\\u200b\\n遵從醫生建議，定期服用藥物，每天監測血壓。 \\n●\\u200b\\n改善飲食習慣，避免過多的鹽分、油脂和加工食品。 \\n●\\u200b\\n增加運動量，減少壓力，保持心情愉快，維持足夠的睡眠。 \\n8 \\nLiver Function Test \\n20-100 \\n建議 \\n別讓肝指數成為健康隱患，從生活細節做好護肝！ \\n規律運動，避免熬夜，均衡飲食，減少酒精攝取，給肝臟最好的保護 \\n14 \\ntarget \\n0=否\\u200b\\n1=是'],\n",
       " 'uris': None,\n",
       " 'included': ['metadatas', 'documents'],\n",
       " 'data': None,\n",
       " 'metadatas': [{'domain': 'liver_disease', 'category': 'pdf'},\n",
       "  {'domain': 'liver_disease', 'category': 'pdf'},\n",
       "  {'domain': 'liver_disease', 'category': 'pdf'}]}"
      ]
     },
     "execution_count": 12,
     "metadata": {},
     "output_type": "execute_result"
    }
   ],
   "source": [
    "from gemini_helper import GenAIEmbeddingFunction\n",
    "from chromadb_helper import add_dataframe\n",
    "\n",
    "pdf_data_df = pd.read_parquet( \"liver_disease_data.parquet\", engine = \"pyarrow\" )\n",
    "\n",
    "chroma_client, collection = add_dataframe( pdf_data_df, GenAIEmbeddingFunction( task_type = \"RETRIEVAL_DOCUMENT\" ) )\n",
    "collection.get( limit = 3 ) "
   ]
  },
  {
   "cell_type": "code",
   "execution_count": 17,
   "id": "f161b5f0",
   "metadata": {},
   "outputs": [
    {
     "ename": "NotFoundError",
     "evalue": "Error getting collection: Collection [546a4a36-a386-41bc-8c64-618e6568b967] does not exists.",
     "output_type": "error",
     "traceback": [
      "\u001b[31m---------------------------------------------------------------------------\u001b[39m",
      "\u001b[31mNotFoundError\u001b[39m                             Traceback (most recent call last)",
      "\u001b[36mCell\u001b[39m\u001b[36m \u001b[39m\u001b[32mIn[17]\u001b[39m\u001b[32m, line 1\u001b[39m\n\u001b[32m----> \u001b[39m\u001b[32m1\u001b[39m results = \u001b[43mcollection\u001b[49m\u001b[43m.\u001b[49m\u001b[43mquery\u001b[49m\u001b[43m(\u001b[49m\n\u001b[32m      2\u001b[39m \u001b[43m    \u001b[49m\u001b[43mquery_texts\u001b[49m\u001b[43m \u001b[49m\u001b[43m=\u001b[49m\u001b[43m \u001b[49m\u001b[43m[\u001b[49m\u001b[43m \u001b[49m\u001b[33;43m\"\u001b[39;49m\u001b[33;43m如何降低心血管疾病風險\u001b[39;49m\u001b[33;43m\"\u001b[39;49m\u001b[43m \u001b[49m\u001b[43m]\u001b[49m\u001b[43m,\u001b[49m\u001b[43m \u001b[49m\n\u001b[32m      3\u001b[39m \u001b[43m    \u001b[49m\u001b[43mn_results\u001b[49m\u001b[43m \u001b[49m\u001b[43m=\u001b[49m\u001b[43m \u001b[49m\u001b[32;43m3\u001b[39;49m\u001b[43m,\u001b[49m\u001b[43m \u001b[49m\u001b[38;5;66;43;03m# how many results to return\u001b[39;49;00m\n\u001b[32m      4\u001b[39m \u001b[43m    \u001b[49m\u001b[43mwhere\u001b[49m\u001b[43m \u001b[49m\u001b[43m=\u001b[49m\u001b[43m \u001b[49m\u001b[43m{\u001b[49m\u001b[43m \u001b[49m\u001b[33;43m\"\u001b[39;49m\u001b[33;43mdomain\u001b[39;49m\u001b[33;43m\"\u001b[39;49m\u001b[43m:\u001b[49m\u001b[43m \u001b[49m\u001b[33;43m\"\u001b[39;49m\u001b[33;43mheart_disease\u001b[39;49m\u001b[33;43m\"\u001b[39;49m\u001b[43m \u001b[49m\u001b[43m}\u001b[49m\u001b[43m,\u001b[49m\n\u001b[32m      5\u001b[39m \u001b[43m    \u001b[49m\u001b[43minclude\u001b[49m\u001b[43m \u001b[49m\u001b[43m=\u001b[49m\u001b[43m \u001b[49m\u001b[43m[\u001b[49m\u001b[43m \u001b[49m\u001b[33;43m\"\u001b[39;49m\u001b[33;43mdocuments\u001b[39;49m\u001b[33;43m\"\u001b[39;49m\u001b[43m,\u001b[49m\u001b[43m \u001b[49m\u001b[33;43m\"\u001b[39;49m\u001b[33;43mmetadatas\u001b[39;49m\u001b[33;43m\"\u001b[39;49m\u001b[43m \u001b[49m\u001b[43m]\u001b[49m\n\u001b[32m      6\u001b[39m \u001b[43m)\u001b[49m\n\u001b[32m      7\u001b[39m results\n",
      "\u001b[36mFile \u001b[39m\u001b[32md:\\workspace\\ml-notebooks\\.venv\\Lib\\site-packages\\chromadb\\api\\models\\Collection.py:219\u001b[39m, in \u001b[36mCollection.query\u001b[39m\u001b[34m(self, query_embeddings, query_texts, query_images, query_uris, n_results, where, where_document, include)\u001b[39m\n\u001b[32m    185\u001b[39m \u001b[38;5;250m\u001b[39m\u001b[33;03m\"\"\"Get the n_results nearest neighbor embeddings for provided query_embeddings or query_texts.\u001b[39;00m\n\u001b[32m    186\u001b[39m \n\u001b[32m    187\u001b[39m \u001b[33;03mArgs:\u001b[39;00m\n\u001b[32m   (...)\u001b[39m\u001b[32m    205\u001b[39m \n\u001b[32m    206\u001b[39m \u001b[33;03m\"\"\"\u001b[39;00m\n\u001b[32m    208\u001b[39m query_request = \u001b[38;5;28mself\u001b[39m._validate_and_prepare_query_request(\n\u001b[32m    209\u001b[39m     query_embeddings=query_embeddings,\n\u001b[32m    210\u001b[39m     query_texts=query_texts,\n\u001b[32m   (...)\u001b[39m\u001b[32m    216\u001b[39m     include=include,\n\u001b[32m    217\u001b[39m )\n\u001b[32m--> \u001b[39m\u001b[32m219\u001b[39m query_results = \u001b[38;5;28;43mself\u001b[39;49m\u001b[43m.\u001b[49m\u001b[43m_client\u001b[49m\u001b[43m.\u001b[49m\u001b[43m_query\u001b[49m\u001b[43m(\u001b[49m\n\u001b[32m    220\u001b[39m \u001b[43m    \u001b[49m\u001b[43mcollection_id\u001b[49m\u001b[43m=\u001b[49m\u001b[38;5;28;43mself\u001b[39;49m\u001b[43m.\u001b[49m\u001b[43mid\u001b[49m\u001b[43m,\u001b[49m\n\u001b[32m    221\u001b[39m \u001b[43m    \u001b[49m\u001b[43mquery_embeddings\u001b[49m\u001b[43m=\u001b[49m\u001b[43mquery_request\u001b[49m\u001b[43m[\u001b[49m\u001b[33;43m\"\u001b[39;49m\u001b[33;43membeddings\u001b[39;49m\u001b[33;43m\"\u001b[39;49m\u001b[43m]\u001b[49m\u001b[43m,\u001b[49m\n\u001b[32m    222\u001b[39m \u001b[43m    \u001b[49m\u001b[43mn_results\u001b[49m\u001b[43m=\u001b[49m\u001b[43mquery_request\u001b[49m\u001b[43m[\u001b[49m\u001b[33;43m\"\u001b[39;49m\u001b[33;43mn_results\u001b[39;49m\u001b[33;43m\"\u001b[39;49m\u001b[43m]\u001b[49m\u001b[43m,\u001b[49m\n\u001b[32m    223\u001b[39m \u001b[43m    \u001b[49m\u001b[43mwhere\u001b[49m\u001b[43m=\u001b[49m\u001b[43mquery_request\u001b[49m\u001b[43m[\u001b[49m\u001b[33;43m\"\u001b[39;49m\u001b[33;43mwhere\u001b[39;49m\u001b[33;43m\"\u001b[39;49m\u001b[43m]\u001b[49m\u001b[43m,\u001b[49m\n\u001b[32m    224\u001b[39m \u001b[43m    \u001b[49m\u001b[43mwhere_document\u001b[49m\u001b[43m=\u001b[49m\u001b[43mquery_request\u001b[49m\u001b[43m[\u001b[49m\u001b[33;43m\"\u001b[39;49m\u001b[33;43mwhere_document\u001b[39;49m\u001b[33;43m\"\u001b[39;49m\u001b[43m]\u001b[49m\u001b[43m,\u001b[49m\n\u001b[32m    225\u001b[39m \u001b[43m    \u001b[49m\u001b[43minclude\u001b[49m\u001b[43m=\u001b[49m\u001b[43mquery_request\u001b[49m\u001b[43m[\u001b[49m\u001b[33;43m\"\u001b[39;49m\u001b[33;43minclude\u001b[39;49m\u001b[33;43m\"\u001b[39;49m\u001b[43m]\u001b[49m\u001b[43m,\u001b[49m\n\u001b[32m    226\u001b[39m \u001b[43m    \u001b[49m\u001b[43mtenant\u001b[49m\u001b[43m=\u001b[49m\u001b[38;5;28;43mself\u001b[39;49m\u001b[43m.\u001b[49m\u001b[43mtenant\u001b[49m\u001b[43m,\u001b[49m\n\u001b[32m    227\u001b[39m \u001b[43m    \u001b[49m\u001b[43mdatabase\u001b[49m\u001b[43m=\u001b[49m\u001b[38;5;28;43mself\u001b[39;49m\u001b[43m.\u001b[49m\u001b[43mdatabase\u001b[49m\u001b[43m,\u001b[49m\n\u001b[32m    228\u001b[39m \u001b[43m\u001b[49m\u001b[43m)\u001b[49m\n\u001b[32m    230\u001b[39m \u001b[38;5;28;01mreturn\u001b[39;00m \u001b[38;5;28mself\u001b[39m._transform_query_response(\n\u001b[32m    231\u001b[39m     response=query_results, include=query_request[\u001b[33m\"\u001b[39m\u001b[33minclude\u001b[39m\u001b[33m\"\u001b[39m]\n\u001b[32m    232\u001b[39m )\n",
      "\u001b[36mFile \u001b[39m\u001b[32md:\\workspace\\ml-notebooks\\.venv\\Lib\\site-packages\\chromadb\\api\\rust.py:493\u001b[39m, in \u001b[36mRustBindingsAPI._query\u001b[39m\u001b[34m(self, collection_id, query_embeddings, n_results, where, where_document, include, tenant, database)\u001b[39m\n\u001b[32m    478\u001b[39m query_amount = \u001b[38;5;28mlen\u001b[39m(query_embeddings)\n\u001b[32m    479\u001b[39m \u001b[38;5;28mself\u001b[39m.product_telemetry_client.capture(\n\u001b[32m    480\u001b[39m     CollectionQueryEvent(\n\u001b[32m    481\u001b[39m         collection_uuid=\u001b[38;5;28mstr\u001b[39m(collection_id),\n\u001b[32m   (...)\u001b[39m\u001b[32m    490\u001b[39m     )\n\u001b[32m    491\u001b[39m )\n\u001b[32m--> \u001b[39m\u001b[32m493\u001b[39m rust_response = \u001b[38;5;28;43mself\u001b[39;49m\u001b[43m.\u001b[49m\u001b[43mbindings\u001b[49m\u001b[43m.\u001b[49m\u001b[43mquery\u001b[49m\u001b[43m(\u001b[49m\n\u001b[32m    494\u001b[39m \u001b[43m    \u001b[49m\u001b[38;5;28;43mstr\u001b[39;49m\u001b[43m(\u001b[49m\u001b[43mcollection_id\u001b[49m\u001b[43m)\u001b[49m\u001b[43m,\u001b[49m\n\u001b[32m    495\u001b[39m \u001b[43m    \u001b[49m\u001b[43mquery_embeddings\u001b[49m\u001b[43m,\u001b[49m\n\u001b[32m    496\u001b[39m \u001b[43m    \u001b[49m\u001b[43mn_results\u001b[49m\u001b[43m,\u001b[49m\n\u001b[32m    497\u001b[39m \u001b[43m    \u001b[49m\u001b[43mjson\u001b[49m\u001b[43m.\u001b[49m\u001b[43mdumps\u001b[49m\u001b[43m(\u001b[49m\u001b[43mwhere\u001b[49m\u001b[43m)\u001b[49m\u001b[43m \u001b[49m\u001b[38;5;28;43;01mif\u001b[39;49;00m\u001b[43m \u001b[49m\u001b[43mwhere\u001b[49m\u001b[43m \u001b[49m\u001b[38;5;28;43;01melse\u001b[39;49;00m\u001b[43m \u001b[49m\u001b[38;5;28;43;01mNone\u001b[39;49;00m\u001b[43m,\u001b[49m\n\u001b[32m    498\u001b[39m \u001b[43m    \u001b[49m\u001b[43mjson\u001b[49m\u001b[43m.\u001b[49m\u001b[43mdumps\u001b[49m\u001b[43m(\u001b[49m\u001b[43mwhere_document\u001b[49m\u001b[43m)\u001b[49m\u001b[43m \u001b[49m\u001b[38;5;28;43;01mif\u001b[39;49;00m\u001b[43m \u001b[49m\u001b[43mwhere_document\u001b[49m\u001b[43m \u001b[49m\u001b[38;5;28;43;01melse\u001b[39;49;00m\u001b[43m \u001b[49m\u001b[38;5;28;43;01mNone\u001b[39;49;00m\u001b[43m,\u001b[49m\n\u001b[32m    499\u001b[39m \u001b[43m    \u001b[49m\u001b[43minclude\u001b[49m\u001b[43m,\u001b[49m\n\u001b[32m    500\u001b[39m \u001b[43m    \u001b[49m\u001b[43mtenant\u001b[49m\u001b[43m,\u001b[49m\n\u001b[32m    501\u001b[39m \u001b[43m    \u001b[49m\u001b[43mdatabase\u001b[49m\u001b[43m,\u001b[49m\n\u001b[32m    502\u001b[39m \u001b[43m\u001b[49m\u001b[43m)\u001b[49m\n\u001b[32m    504\u001b[39m \u001b[38;5;28;01mreturn\u001b[39;00m QueryResult(\n\u001b[32m    505\u001b[39m     ids=rust_response.ids,\n\u001b[32m    506\u001b[39m     embeddings=rust_response.embeddings,\n\u001b[32m   (...)\u001b[39m\u001b[32m    512\u001b[39m     distances=rust_response.distances,\n\u001b[32m    513\u001b[39m )\n",
      "\u001b[31mNotFoundError\u001b[39m: Error getting collection: Collection [546a4a36-a386-41bc-8c64-618e6568b967] does not exists."
     ]
    }
   ],
   "source": [
    "results = collection.query(\n",
    "    query_texts = [ \"如何降低心血管疾病風險\" ], \n",
    "    n_results = 3, # how many results to return\n",
    "    where = { \"domain\": \"heart_disease\" },\n",
    "    include = [ \"documents\", \"metadatas\" ]\n",
    ")\n",
    "results"
   ]
  },
  {
   "cell_type": "code",
   "execution_count": 13,
   "id": "2281fd23",
   "metadata": {},
   "outputs": [],
   "source": [
    "from chromadb_helper import delete_collection\n",
    "\n",
    "delete_collection( chroma_client )"
   ]
  }
 ],
 "metadata": {
  "kernelspec": {
   "display_name": ".venv",
   "language": "python",
   "name": "python3"
  },
  "language_info": {
   "codemirror_mode": {
    "name": "ipython",
    "version": 3
   },
   "file_extension": ".py",
   "mimetype": "text/x-python",
   "name": "python",
   "nbconvert_exporter": "python",
   "pygments_lexer": "ipython3",
   "version": "3.13.2"
  }
 },
 "nbformat": 4,
 "nbformat_minor": 5
}
