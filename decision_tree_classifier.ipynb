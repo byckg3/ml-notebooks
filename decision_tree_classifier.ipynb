{
 "cells": [
  {
   "cell_type": "code",
   "execution_count": 1,
   "metadata": {},
   "outputs": [
    {
     "data": {
      "text/html": [
       "<div>\n",
       "<style scoped>\n",
       "    .dataframe tbody tr th:only-of-type {\n",
       "        vertical-align: middle;\n",
       "    }\n",
       "\n",
       "    .dataframe tbody tr th {\n",
       "        vertical-align: top;\n",
       "    }\n",
       "\n",
       "    .dataframe thead th {\n",
       "        text-align: right;\n",
       "    }\n",
       "</style>\n",
       "<table border=\"1\" class=\"dataframe\">\n",
       "  <thead>\n",
       "    <tr style=\"text-align: right;\">\n",
       "      <th></th>\n",
       "      <th>Age</th>\n",
       "      <th>Gender</th>\n",
       "      <th>BMI</th>\n",
       "      <th>AlcoholConsumption</th>\n",
       "      <th>Smoking</th>\n",
       "      <th>GeneticRisk</th>\n",
       "      <th>PhysicalActivity</th>\n",
       "      <th>Diabetes</th>\n",
       "      <th>Hypertension</th>\n",
       "      <th>LiverFunctionTest</th>\n",
       "      <th>Diagnosis</th>\n",
       "    </tr>\n",
       "  </thead>\n",
       "  <tbody>\n",
       "    <tr>\n",
       "      <th>0</th>\n",
       "      <td>58</td>\n",
       "      <td>0</td>\n",
       "      <td>35.857584</td>\n",
       "      <td>17.272828</td>\n",
       "      <td>0</td>\n",
       "      <td>1</td>\n",
       "      <td>0.658940</td>\n",
       "      <td>0</td>\n",
       "      <td>0</td>\n",
       "      <td>42.734240</td>\n",
       "      <td>1</td>\n",
       "    </tr>\n",
       "    <tr>\n",
       "      <th>1</th>\n",
       "      <td>71</td>\n",
       "      <td>1</td>\n",
       "      <td>30.732470</td>\n",
       "      <td>2.201266</td>\n",
       "      <td>0</td>\n",
       "      <td>1</td>\n",
       "      <td>1.670557</td>\n",
       "      <td>1</td>\n",
       "      <td>0</td>\n",
       "      <td>67.309822</td>\n",
       "      <td>1</td>\n",
       "    </tr>\n",
       "    <tr>\n",
       "      <th>2</th>\n",
       "      <td>48</td>\n",
       "      <td>0</td>\n",
       "      <td>19.971407</td>\n",
       "      <td>18.500944</td>\n",
       "      <td>0</td>\n",
       "      <td>0</td>\n",
       "      <td>9.928308</td>\n",
       "      <td>0</td>\n",
       "      <td>0</td>\n",
       "      <td>63.738956</td>\n",
       "      <td>0</td>\n",
       "    </tr>\n",
       "    <tr>\n",
       "      <th>3</th>\n",
       "      <td>34</td>\n",
       "      <td>1</td>\n",
       "      <td>16.615417</td>\n",
       "      <td>12.632870</td>\n",
       "      <td>0</td>\n",
       "      <td>0</td>\n",
       "      <td>5.630129</td>\n",
       "      <td>0</td>\n",
       "      <td>0</td>\n",
       "      <td>64.555873</td>\n",
       "      <td>1</td>\n",
       "    </tr>\n",
       "    <tr>\n",
       "      <th>4</th>\n",
       "      <td>62</td>\n",
       "      <td>1</td>\n",
       "      <td>16.065830</td>\n",
       "      <td>1.087815</td>\n",
       "      <td>0</td>\n",
       "      <td>1</td>\n",
       "      <td>3.566218</td>\n",
       "      <td>1</td>\n",
       "      <td>0</td>\n",
       "      <td>77.868689</td>\n",
       "      <td>1</td>\n",
       "    </tr>\n",
       "  </tbody>\n",
       "</table>\n",
       "</div>"
      ],
      "text/plain": [
       "   Age  Gender        BMI  AlcoholConsumption  Smoking  GeneticRisk  \\\n",
       "0   58       0  35.857584           17.272828        0            1   \n",
       "1   71       1  30.732470            2.201266        0            1   \n",
       "2   48       0  19.971407           18.500944        0            0   \n",
       "3   34       1  16.615417           12.632870        0            0   \n",
       "4   62       1  16.065830            1.087815        0            1   \n",
       "\n",
       "   PhysicalActivity  Diabetes  Hypertension  LiverFunctionTest  Diagnosis  \n",
       "0          0.658940         0             0          42.734240          1  \n",
       "1          1.670557         1             0          67.309822          1  \n",
       "2          9.928308         0             0          63.738956          0  \n",
       "3          5.630129         0             0          64.555873          1  \n",
       "4          3.566218         1             0          77.868689          1  "
      ]
     },
     "execution_count": 1,
     "metadata": {},
     "output_type": "execute_result"
    }
   ],
   "source": [
    "import pandas as pd\n",
    "\n",
    "data = pd.read_csv( \"Liver_disease_data.csv\" )\n",
    "data.head()"
   ]
  },
  {
   "cell_type": "markdown",
   "metadata": {},
   "source": [
    "### [DecisionTreeClassifier](https://scikit-learn.org/1.6/modules/generated/sklearn.tree.DecisionTreeClassifier.html)"
   ]
  },
  {
   "cell_type": "code",
   "execution_count": null,
   "metadata": {},
   "outputs": [
    {
     "name": "stdout",
     "output_type": "stream",
     "text": [
      "best params: {'max_depth': 10, 'min_samples_leaf': 5, 'min_samples_split': 2, 'random_state': 42}\n",
      "best score: 0.8673\n"
     ]
    },
    {
     "name": "stderr",
     "output_type": "stream",
     "text": [
      "d:\\mlflow-test\\.venv\\Lib\\site-packages\\mlflow\\types\\utils.py:452: UserWarning: Hint: Inferred schema contains integer column(s). Integer columns in Python cannot represent missing values. If your input data contains missing values at inference time, it will be encoded as floats and will cause a schema enforcement error. The best way to avoid this problem is to infer the model schema based on a realistic data sample (training dataset) that includes missing values. Alternatively, you can declare integer columns as doubles (float64) whenever these columns may have missing values. See `Handling Integers With Missing Values <https://www.mlflow.org/docs/latest/models.html#handling-integers-with-missing-values>`_ for more details.\n",
      "  warnings.warn(\n",
      "d:\\mlflow-test\\.venv\\Lib\\site-packages\\mlflow\\types\\utils.py:452: UserWarning: Hint: Inferred schema contains integer column(s). Integer columns in Python cannot represent missing values. If your input data contains missing values at inference time, it will be encoded as floats and will cause a schema enforcement error. The best way to avoid this problem is to infer the model schema based on a realistic data sample (training dataset) that includes missing values. Alternatively, you can declare integer columns as doubles (float64) whenever these columns may have missing values. See `Handling Integers With Missing Values <https://www.mlflow.org/docs/latest/models.html#handling-integers-with-missing-values>`_ for more details.\n",
      "  warnings.warn(\n",
      "d:\\mlflow-test\\.venv\\Lib\\site-packages\\mlflow\\types\\utils.py:452: UserWarning: Hint: Inferred schema contains integer column(s). Integer columns in Python cannot represent missing values. If your input data contains missing values at inference time, it will be encoded as floats and will cause a schema enforcement error. The best way to avoid this problem is to infer the model schema based on a realistic data sample (training dataset) that includes missing values. Alternatively, you can declare integer columns as doubles (float64) whenever these columns may have missing values. See `Handling Integers With Missing Values <https://www.mlflow.org/docs/latest/models.html#handling-integers-with-missing-values>`_ for more details.\n",
      "  warnings.warn(\n"
     ]
    },
    {
     "name": "stdout",
     "output_type": "stream",
     "text": [
      "              precision    recall  f1-score   support\n",
      "\n",
      "           0       0.79      0.80      0.80       157\n",
      "           1       0.83      0.82      0.82       183\n",
      "\n",
      "    accuracy                           0.81       340\n",
      "   macro avg       0.81      0.81      0.81       340\n",
      "weighted avg       0.81      0.81      0.81       340\n",
      "\n",
      "Accuracy: 0.8117647058823529 Precision: 0.8287292817679558 Recall: 0.819672131147541 F1-Score: 0.8241758241758241\n"
     ]
    },
    {
     "name": "stderr",
     "output_type": "stream",
     "text": [
      "Downloading artifacts: 100%|██████████| 7/7 [00:00<00:00, 1772.95it/s] \n"
     ]
    },
    {
     "name": "stdout",
     "output_type": "stream",
     "text": [
      "artifact uri: file:///d:/mlflow-test/mlruns/511301782627813970/32f95e8a3467431eb6ada0879c7750b0/artifacts/model\n"
     ]
    },
    {
     "name": "stderr",
     "output_type": "stream",
     "text": [
      "Registered model 'decision_tree_model' already exists. Creating a new version of this model...\n",
      "Created version '23' of model 'decision_tree_model'.\n"
     ]
    }
   ],
   "source": [
    "import mlflow\n",
    "from sklearn.model_selection import train_test_split\n",
    "from sklearn.model_selection import GridSearchCV\n",
    "from sklearn.tree import DecisionTreeClassifier\n",
    "from sklearn.metrics import accuracy_score, precision_score, recall_score, f1_score, confusion_matrix\n",
    "from sklearn.metrics import classification_report\n",
    "\n",
    "# mlflow.autolog()\n",
    "\n",
    "train_data, test_data = train_test_split( data, test_size = 0.2, random_state = 0 )\n",
    "target_column = \"Diagnosis\"\n",
    "\n",
    "y_train = train_data[ target_column ]\n",
    "X_train = train_data.drop( columns = [ target_column ] )\n",
    "\n",
    "y_test = test_data[ target_column ]\n",
    "X_test = test_data.drop( columns = [ target_column ] )\n",
    "\n",
    "param_grid = {\n",
    "    \"max_depth\": [ 8, 9, 10 ],   # 決策樹的最大深度\n",
    "    \"min_samples_split\": [ 2, 5, 6, 7, 8, 9, 10 ],  # 每個節點至少要包含多少個樣本才能繼續分裂\n",
    "    \"min_samples_leaf\": [ 2, 3, 4, 5, 6 ],\n",
    "}\n",
    "\n",
    "metrics = [ \"recall\", \"f1\" ]\n",
    "grid_search = GridSearchCV( estimator = DecisionTreeClassifier( random_state = 42 ),\n",
    "                            param_grid = param_grid,\n",
    "                            cv = 5,\n",
    "                            scoring = metrics, \n",
    "                            refit = metrics[ 0 ], # refit the best model using the first metric in the list\n",
    "                            n_jobs = -1 )\n",
    "\n",
    "grid_search.fit( X_train, y_train )\n",
    "\n",
    "print( f\"best params: {grid_search.best_params_}\" )\n",
    "print( f\"best score: {grid_search.best_score_:.4f}\" )\n",
    "\n",
    "\n",
    "mlflow.set_experiment( \"Decision Tree Classifier\" )\n",
    "\n",
    "candidate_models = []\n",
    "with mlflow.start_run():\n",
    "         \n",
    "    mlflow.log_input( mlflow.data.from_pandas( X_train ), context = \"train\" )\n",
    "    mlflow.log_params( grid_search.best_params_ )\n",
    "\n",
    "    model = grid_search.best_estimator_\n",
    "   \n",
    "    y_pred = model.predict( X_test )\n",
    "\n",
    "    accuracy = accuracy_score( y_test, y_pred )\n",
    "    precision = precision_score( y_test, y_pred )\n",
    "    recall = recall_score( y_test, y_pred )\n",
    "    f1 = f1_score( y_test, y_pred )\n",
    "    print( classification_report( y_test, y_pred ) )\n",
    "    print( \"Accuracy:\", accuracy, \"Precision:\", precision, \"Recall:\", recall, \"F1-Score:\", f1 )\n",
    "    \n",
    "    mlflow.log_metrics( \n",
    "        { \"Accuracy\": accuracy,\n",
    "          \"Recall\": recall,\n",
    "          \"Precision\": precision,\n",
    "          \"F1-Score\": f1,\n",
    "        } \n",
    "    )\n",
    "    \n",
    "    artifact_folder = \"model\"\n",
    "    mlflow.sklearn.log_model( sk_model = model, \n",
    "                              artifact_path = artifact_folder,\n",
    "                              registered_model_name = \"decision_tree_model\",\n",
    "                              input_example = X_train.iloc[ 0:1 ],\n",
    "                              pip_requirements = \"requirements.txt\" )\n",
    "    \n",
    "    artifact_uri = mlflow.get_artifact_uri( artifact_folder )\n",
    "    print( \"artifact uri:\", artifact_uri )\n",
    "\n",
    "    candidate_models.append( model )\n",
    "    \n",
    "mlflow.end_run()"
   ]
  },
  {
   "cell_type": "markdown",
   "metadata": {},
   "source": [
    "### HF upload folder"
   ]
  },
  {
   "cell_type": "code",
   "execution_count": 11,
   "metadata": {},
   "outputs": [
    {
     "name": "stderr",
     "output_type": "stream",
     "text": [
      "Note: Environment variable`HF_TOKEN` is set and is the current active token independently from the token you've just configured.\n"
     ]
    },
    {
     "name": "stdout",
     "output_type": "stream",
     "text": [
      "d:/mlflow-test/mlruns/511301782627813970/32f95e8a3467431eb6ada0879c7750b0/artifacts/model\n",
      "folder exists\n"
     ]
    },
    {
     "name": "stderr",
     "output_type": "stream",
     "text": [
      "No files have been modified since last commit. Skipping to prevent empty commit.\n"
     ]
    }
   ],
   "source": [
    "import os\n",
    "from pathlib import Path\n",
    "from huggingface_hub import login\n",
    "from huggingface_hub import HfApi\n",
    "\n",
    "if os.path.exists( \".env\" ):\n",
    "    from dotenv import load_dotenv\n",
    "    load_dotenv()\n",
    "\n",
    "login( os.getenv( \"HF_TOKEN\" ) )\n",
    "api = HfApi()\n",
    "\n",
    "REPO_ID = \"byckg3/gad245-g1-01\"\n",
    "FOLDER_PATH = artifact_uri.replace( \"file:///\", \"\" )\n",
    "REPO_PATH = f\"liver/sklearn/decision_tree/01\"\n",
    "print( FOLDER_PATH )\n",
    "\n",
    "file_path = Path( FOLDER_PATH )\n",
    "\n",
    "# 檢查是否存在\n",
    "if file_path.exists() and file_path.is_dir():\n",
    "    print( \"folder exists\" )\n",
    "    api.upload_folder(\n",
    "        folder_path = FOLDER_PATH,\n",
    "        path_in_repo = REPO_PATH,\n",
    "        repo_id= REPO_ID,\n",
    "    )\n",
    "else:\n",
    "    print( \"folder not exists\" )"
   ]
  },
  {
   "cell_type": "code",
   "execution_count": 15,
   "metadata": {},
   "outputs": [
    {
     "name": "stdout",
     "output_type": "stream",
     "text": [
      "['Age' 'Gender' 'BMI' 'AlcoholConsumption' 'Smoking' 'GeneticRisk'\n",
      " 'PhysicalActivity' 'Diabetes' 'Hypertension' 'LiverFunctionTest']\n",
      "[0 1]\n",
      "[0.09417673 0.05976493 0.0860782  0.24470218 0.05975052 0.05060517\n",
      " 0.059652   0.01351021 0.05194181 0.27981824]\n"
     ]
    }
   ],
   "source": [
    "print( model.feature_names_in_ )\n",
    "print( model.classes_ )\n",
    "print( model.feature_importances_ )"
   ]
  },
  {
   "cell_type": "code",
   "execution_count": null,
   "metadata": {},
   "outputs": [],
   "source": [
    "from sklearn import tree\n",
    "text_representation = tree.export_text(model)\n",
    "print(text_representation)"
   ]
  },
  {
   "cell_type": "code",
   "execution_count": null,
   "metadata": {},
   "outputs": [],
   "source": [
    "from matplotlib import pyplot as plt\n",
    "\n",
    "fig = plt.figure( figsize = ( 25, 50 ), dpi = 300 )\n",
    "_ = tree.plot_tree( model, \n",
    "                    feature_names = model.feature_names_in_,  \n",
    "                    class_names = [ str(c) for c in model.classes_ ],\n",
    "                    filled = True )"
   ]
  }
 ],
 "metadata": {
  "kernelspec": {
   "display_name": ".venv",
   "language": "python",
   "name": "python3"
  },
  "language_info": {
   "codemirror_mode": {
    "name": "ipython",
    "version": 3
   },
   "file_extension": ".py",
   "mimetype": "text/x-python",
   "name": "python",
   "nbconvert_exporter": "python",
   "pygments_lexer": "ipython3",
   "version": "3.13.2"
  }
 },
 "nbformat": 4,
 "nbformat_minor": 2
}
