{
 "cells": [
  {
   "cell_type": "code",
   "execution_count": 1,
   "metadata": {},
   "outputs": [],
   "source": [
    "import os\n",
    "\n",
    "if os.path.exists( \".env\" ):\n",
    "    from dotenv import load_dotenv\n",
    "    load_dotenv()"
   ]
  },
  {
   "cell_type": "code",
   "execution_count": null,
   "metadata": {},
   "outputs": [],
   "source": [
    "from huggingface_hub import login\n",
    "from huggingface_hub import HfApi\n",
    "\n",
    "login( os.getenv( \"HF_TOKEN\" ) )\n",
    "api = HfApi()\n",
    "\n",
    "REPO_ID = \"byckg3/gad245-g1-01\"\n",
    "FOLDER_PATH = \"D:/mlflow-test/mlruns/832385622201416197/80fba1e9cfd64bccb4ed197637e49c32/artifacts/models\"\n",
    "REPO_PATH = f\"liver/sklearn/gradient_boosting/01\"\n",
    "\n",
    "print( \"folder exists:\", os.path.exists( FOLDER_PATH ) )\n",
    "\n",
    "api.upload_folder(\n",
    "    folder_path = FOLDER_PATH,\n",
    "    path_in_repo = REPO_PATH,\n",
    "    repo_id= REPO_ID,\n",
    ")"
   ]
  },
  {
   "cell_type": "code",
   "execution_count": null,
   "metadata": {},
   "outputs": [
    {
     "data": {
      "text/plain": [
       "'liver\\\\sklearn\\\\random_forest\\\\01\\\\model.pkl'"
      ]
     },
     "execution_count": 21,
     "metadata": {},
     "output_type": "execute_result"
    }
   ],
   "source": [
    "from huggingface_hub import hf_hub_download\n",
    "\n",
    "hf_hub_download( repo_id = REPO_ID , \n",
    "                 local_dir = \".\",\n",
    "                 filename = f\"{REPO_PATH}/model.pkl\" )"
   ]
  }
 ],
 "metadata": {
  "kernelspec": {
   "display_name": ".venv",
   "language": "python",
   "name": "python3"
  },
  "language_info": {
   "codemirror_mode": {
    "name": "ipython",
    "version": 3
   },
   "file_extension": ".py",
   "mimetype": "text/x-python",
   "name": "python",
   "nbconvert_exporter": "python",
   "pygments_lexer": "ipython3",
   "version": "3.13.2"
  }
 },
 "nbformat": 4,
 "nbformat_minor": 2
}
